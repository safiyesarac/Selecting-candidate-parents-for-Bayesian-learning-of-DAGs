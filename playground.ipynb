{
 "cells": [
  {
   "cell_type": "code",
   "execution_count": 29,
   "metadata": {},
   "outputs": [
    {
     "name": "stdout",
     "output_type": "stream",
     "text": [
      "Requirement already satisfied: matplotlib in /home/gulce/.pyenv/versions/3.11.7/lib/python3.11/site-packages (3.9.2)\n",
      "Requirement already satisfied: contourpy>=1.0.1 in /home/gulce/.pyenv/versions/3.11.7/lib/python3.11/site-packages (from matplotlib) (1.3.0)\n",
      "Requirement already satisfied: cycler>=0.10 in /home/gulce/.pyenv/versions/3.11.7/lib/python3.11/site-packages (from matplotlib) (0.12.1)\n",
      "Requirement already satisfied: fonttools>=4.22.0 in /home/gulce/.pyenv/versions/3.11.7/lib/python3.11/site-packages (from matplotlib) (4.54.1)\n",
      "Requirement already satisfied: kiwisolver>=1.3.1 in /home/gulce/.pyenv/versions/3.11.7/lib/python3.11/site-packages (from matplotlib) (1.4.7)\n",
      "Requirement already satisfied: numpy>=1.23 in /home/gulce/.pyenv/versions/3.11.7/lib/python3.11/site-packages (from matplotlib) (1.26.4)\n",
      "Requirement already satisfied: packaging>=20.0 in /home/gulce/.pyenv/versions/3.11.7/lib/python3.11/site-packages (from matplotlib) (23.2)\n",
      "Requirement already satisfied: pillow>=8 in /home/gulce/.pyenv/versions/3.11.7/lib/python3.11/site-packages (from matplotlib) (10.4.0)\n",
      "Requirement already satisfied: pyparsing>=2.3.1 in /home/gulce/.pyenv/versions/3.11.7/lib/python3.11/site-packages (from matplotlib) (3.1.4)\n",
      "Requirement already satisfied: python-dateutil>=2.7 in /home/gulce/.pyenv/versions/3.11.7/lib/python3.11/site-packages (from matplotlib) (2.8.2)\n",
      "Requirement already satisfied: six>=1.5 in /home/gulce/.pyenv/versions/3.11.7/lib/python3.11/site-packages (from python-dateutil>=2.7->matplotlib) (1.16.0)\n",
      "\n",
      "\u001b[1m[\u001b[0m\u001b[34;49mnotice\u001b[0m\u001b[1;39;49m]\u001b[0m\u001b[39;49m A new release of pip is available: \u001b[0m\u001b[31;49m23.2.1\u001b[0m\u001b[39;49m -> \u001b[0m\u001b[32;49m24.2\u001b[0m\n",
      "\u001b[1m[\u001b[0m\u001b[34;49mnotice\u001b[0m\u001b[1;39;49m]\u001b[0m\u001b[39;49m To update, run: \u001b[0m\u001b[32;49mpip install --upgrade pip\u001b[0m\n",
      "Requirement already satisfied: seaborn in /home/gulce/.pyenv/versions/3.11.7/lib/python3.11/site-packages (0.13.2)\n",
      "Requirement already satisfied: numpy!=1.24.0,>=1.20 in /home/gulce/.pyenv/versions/3.11.7/lib/python3.11/site-packages (from seaborn) (1.26.4)\n",
      "Requirement already satisfied: pandas>=1.2 in /home/gulce/.pyenv/versions/3.11.7/lib/python3.11/site-packages (from seaborn) (2.2.2)\n",
      "Requirement already satisfied: matplotlib!=3.6.1,>=3.4 in /home/gulce/.pyenv/versions/3.11.7/lib/python3.11/site-packages (from seaborn) (3.9.2)\n",
      "Requirement already satisfied: contourpy>=1.0.1 in /home/gulce/.pyenv/versions/3.11.7/lib/python3.11/site-packages (from matplotlib!=3.6.1,>=3.4->seaborn) (1.3.0)\n",
      "Requirement already satisfied: cycler>=0.10 in /home/gulce/.pyenv/versions/3.11.7/lib/python3.11/site-packages (from matplotlib!=3.6.1,>=3.4->seaborn) (0.12.1)\n",
      "Requirement already satisfied: fonttools>=4.22.0 in /home/gulce/.pyenv/versions/3.11.7/lib/python3.11/site-packages (from matplotlib!=3.6.1,>=3.4->seaborn) (4.54.1)\n",
      "Requirement already satisfied: kiwisolver>=1.3.1 in /home/gulce/.pyenv/versions/3.11.7/lib/python3.11/site-packages (from matplotlib!=3.6.1,>=3.4->seaborn) (1.4.7)\n",
      "Requirement already satisfied: packaging>=20.0 in /home/gulce/.pyenv/versions/3.11.7/lib/python3.11/site-packages (from matplotlib!=3.6.1,>=3.4->seaborn) (23.2)\n",
      "Requirement already satisfied: pillow>=8 in /home/gulce/.pyenv/versions/3.11.7/lib/python3.11/site-packages (from matplotlib!=3.6.1,>=3.4->seaborn) (10.4.0)\n",
      "Requirement already satisfied: pyparsing>=2.3.1 in /home/gulce/.pyenv/versions/3.11.7/lib/python3.11/site-packages (from matplotlib!=3.6.1,>=3.4->seaborn) (3.1.4)\n",
      "Requirement already satisfied: python-dateutil>=2.7 in /home/gulce/.pyenv/versions/3.11.7/lib/python3.11/site-packages (from matplotlib!=3.6.1,>=3.4->seaborn) (2.8.2)\n",
      "Requirement already satisfied: pytz>=2020.1 in /home/gulce/.pyenv/versions/3.11.7/lib/python3.11/site-packages (from pandas>=1.2->seaborn) (2024.1)\n",
      "Requirement already satisfied: tzdata>=2022.7 in /home/gulce/.pyenv/versions/3.11.7/lib/python3.11/site-packages (from pandas>=1.2->seaborn) (2024.1)\n",
      "Requirement already satisfied: six>=1.5 in /home/gulce/.pyenv/versions/3.11.7/lib/python3.11/site-packages (from python-dateutil>=2.7->matplotlib!=3.6.1,>=3.4->seaborn) (1.16.0)\n",
      "\n",
      "\u001b[1m[\u001b[0m\u001b[34;49mnotice\u001b[0m\u001b[1;39;49m]\u001b[0m\u001b[39;49m A new release of pip is available: \u001b[0m\u001b[31;49m23.2.1\u001b[0m\u001b[39;49m -> \u001b[0m\u001b[32;49m24.2\u001b[0m\n",
      "\u001b[1m[\u001b[0m\u001b[34;49mnotice\u001b[0m\u001b[1;39;49m]\u001b[0m\u001b[39;49m To update, run: \u001b[0m\u001b[32;49mpip install --upgrade pip\u001b[0m\n"
     ]
    }
   ],
   "source": [
    "! pip install matplotlib\n",
    "import numpy as np\n",
    "import matplotlib.pyplot as plt\n",
    "from scipy.stats import dirichlet\n",
    "! pip install seaborn\n",
    "import seaborn as sns\n",
    "import networkx as nx"
   ]
  },
  {
   "attachments": {},
   "cell_type": "markdown",
   "metadata": {},
   "source": [
    "###  Uniformly Sampling DAGs\n",
    "Talvitie and Koivisto \n",
    "\n",
    "Generates a random permutation of the nodes to establish an ordering.\n",
    "\n",
    "This ordering ensures acyclicity since edges are only added from earlier nodes to later nodes.\n",
    "\n",
    "For each node (except the first), we consider all previous nodes in the ordering as potential parents.\n",
    "\n",
    "We randomly choose a number of parents for the current node, uniformly between 0 and max_parents (or the number of possible parents).\n",
    "\n",
    "Parents are selected uniformly at random from the possible parents\n",
    "\n",
    "By uniformly selecting the number of parents and the parents themselves, we ensure that each possible DAG has an equal probability of being sampled under the constraints."
   ]
  },
  {
   "cell_type": "code",
   "execution_count": 30,
   "metadata": {},
   "outputs": [],
   "source": [
    "\n",
    "def sample_uniform_dag(num_nodes, max_parents=None):\n",
    "    nodes = list(range(num_nodes))\n",
    "    G = nx.DiGraph()\n",
    "    G.add_nodes_from(nodes)\n",
    "    \n",
    "   \n",
    "    ordering = np.random.permutation(nodes)\n",
    "    \n",
    "    for i in range(1, num_nodes):\n",
    "        current_node = ordering[i]\n",
    "        possible_parents = ordering[:i]\n",
    "        \n",
    "\n",
    "        if max_parents is not None:\n",
    "            max_p = min(len(possible_parents), max_parents)\n",
    "        else:\n",
    "            max_p = len(possible_parents)\n",
    "        \n",
    "        num_parents = np.random.randint(0, max_p + 1)\n",
    "        \n",
    "        parents = np.random.choice(possible_parents, size=num_parents, replace=False)\n",
    "\n",
    "        for parent in parents:\n",
    "            G.add_edge(parent, current_node)\n",
    "    \n",
    "    return G"
   ]
  },
  {
   "cell_type": "code",
   "execution_count": 31,
   "metadata": {},
   "outputs": [],
   "source": [
    "num_nodes = 25  # Number of nodes in the DAG\n",
    "max_parents = 4  # Maximum number of parents per node (optional)\n",
    "N = 1000  # Number of data samples to generate\n",
    "alpha = 1.0  # Dirichlet parameter (uniform prior)"
   ]
  },
  {
   "cell_type": "code",
   "execution_count": 32,
   "metadata": {},
   "outputs": [],
   "source": [
    "node_states = {node: [0, 1] for node in range(num_nodes)}\n",
    "    \n",
    "# G is my model \n",
    "G = sample_uniform_dag(num_nodes, max_parents=max_parents)"
   ]
  },
  {
   "cell_type": "code",
   "execution_count": 38,
   "metadata": {},
   "outputs": [],
   "source": [
    "import itertools\n",
    "import pandas as pd\n",
    "def sample_theta_given_g(G, node_states, alpha=1.0):\n",
    "    theta = {}\n",
    "    nodes = list(nx.topological_sort(G))\n",
    "    for node in nodes:\n",
    "        parents = list(G.predecessors(node))\n",
    "        node_state_space = node_states[node]\n",
    "        num_node_states = len(node_state_space)\n",
    "        \n",
    "        if len(parents) == 0:\n",
    "           \n",
    "            alpha_vector = np.full(num_node_states, alpha)\n",
    "            probabilities = np.random.dirichlet(alpha_vector)\n",
    "            theta[node] = {}\n",
    "            theta[node][()] = probabilities  \n",
    "        else:\n",
    "            \n",
    "            parent_states = [node_states[parent] for parent in parents]\n",
    "            parent_configurations = list(itertools.product(*parent_states))\n",
    "            theta[node] = {}\n",
    "            for parent_config in parent_configurations:\n",
    "                # Sample Dirichlet \n",
    "                alpha_vector = np.full(num_node_states, alpha)\n",
    "                probabilities = np.random.dirichlet(alpha_vector)\n",
    "                theta[node][parent_config] = probabilities\n",
    "    return theta"
   ]
  },
  {
   "cell_type": "code",
   "execution_count": 39,
   "metadata": {},
   "outputs": [],
   "source": [
    "theta = sample_theta_given_g(G, node_states, alpha=alpha )# p(theta|G)"
   ]
  },
  {
   "cell_type": "code",
   "execution_count": 40,
   "metadata": {},
   "outputs": [],
   "source": [
    "def generate_data(G, theta, node_states, N):\n",
    "    nodes = list(nx.topological_sort(G))\n",
    "    data = []\n",
    "    for _ in range(N):\n",
    "        sample = {}\n",
    "        for node in nodes:\n",
    "            parents = list(G.predecessors(node))\n",
    "            if len(parents) == 0:\n",
    "                # Sample from the prior distribution \n",
    "                probabilities = theta[node][()]\n",
    "                node_value = np.random.choice(node_states[node], p=probabilities)\n",
    "                sample[node] = node_value\n",
    "            else:\n",
    "                # Sample from the conditional distribution\n",
    "                parent_values = tuple(sample[parent] for parent in parents)\n",
    "                probabilities = theta[node][parent_values]\n",
    "                node_value = np.random.choice(node_states[node], p=probabilities)\n",
    "                sample[node] = node_value\n",
    "        data.append(sample)\n",
    "    return pd.DataFrame(data)"
   ]
  },
  {
   "cell_type": "code",
   "execution_count": 41,
   "metadata": {},
   "outputs": [],
   "source": [
    "df = generate_data(G, theta, node_states, N)"
   ]
  },
  {
   "cell_type": "code",
   "execution_count": 43,
   "metadata": {},
   "outputs": [],
   "source": [
    "plt.figure(figsize=(32, 24))\n",
    "pos = nx.shell_layout(G)\n",
    "nx.draw(G, pos, with_labels=True, node_color='lightblue', node_size=1500, arrowstyle='->', arrowsize=20)\n",
    "plt.title(\"Uniformly Sampled Bayesian Network Structure (DAG)\")\n",
    "#plt.show()\n",
    "plt.savefig(\"Uniformly Sampled Bayesian Network Structure (DAG\")\n",
    "plt.close()    "
   ]
  },
  {
   "cell_type": "code",
   "execution_count": null,
   "metadata": {},
   "outputs": [
    {
     "data": {
      "image/png": "[encoded data removed]",
      "text/plain": [
       "<Figure size 1200x800 with 25 Axes>"
      ]
     },
     "metadata": {},
     "output_type": "display_data"
    }
   ],
   "source": [
    "\n",
    "df.hist(bins=2, figsize=(12, 8))\n",
    "plt.tight_layout()\n",
    "plt.show()"
   ]
  },
  {
   "cell_type": "code",
   "execution_count": 63,
   "metadata": {},
   "outputs": [],
   "source": [
    "df.to_csv('data.data', sep=' ', index=False, header=False)\n",
    "arities = [len(node_states[node]) for node in sorted(node_states.keys())]\n",
    "with open('data.arities', 'w') as f:\n",
    "    for arity in arities:\n",
    "        f.write(f'{arity}\\n')"
   ]
  },
  {
   "cell_type": "code",
   "execution_count": 45,
   "metadata": {},
   "outputs": [],
   "source": [
    "with open('gobnilp.set', 'w') as f:\n",
    "        f.write('gobnilp/scoring/family = \"bdeu\"\\n')\n",
    "        f.write('gobnilp/scoring/bdeuess = 1.0\\n')\n",
    "        f.write('gobnilp/localscoring = TRUE\\n')\n",
    "        f.write(f'gobnilp/maxparents = {max_parents}\\n')"
   ]
  },
  {
   "cell_type": "code",
   "execution_count": null,
   "metadata": {},
   "outputs": [],
   "source": [
    "command = [\n",
    "        '../thesis/pygobnilp/pygobnilp',              \n",
    "        '-g', 'data.data',\n",
    "        '-a', 'data.arities',\n",
    "        '-s', 'gobnilp.set',\n",
    "        '-o', 'output.dag'\n",
    "    ]"
   ]
  },
  {
   "cell_type": "code",
   "execution_count": 5,
   "metadata": {},
   "outputs": [
    {
     "name": "stdout",
     "output_type": "stream",
     "text": [
      "Set parameter PreCrush to value 1\n",
      "Set parameter CutPasses to value 100000\n",
      "Set parameter GomoryPasses to value 100000\n",
      "Set parameter MIPFocus to value 2\n",
      "Set parameter ZeroHalfCuts to value 2\n",
      "Set parameter MIPGap to value 0\n",
      "Set parameter MIPGapAbs to value 0\n"
     ]
    },
    {
     "ename": "AttributeError",
     "evalue": "No parameter named 'setParam'",
     "output_type": "error",
     "traceback": [
      "\u001b[0;31m---------------------------------------------------------------------------\u001b[0m",
      "\u001b[0;31mAttributeError\u001b[0m                            Traceback (most recent call last)",
      "Cell \u001b[0;32mIn[5], line 8\u001b[0m\n\u001b[1;32m      5\u001b[0m g \u001b[39m=\u001b[39m Gobnilp()\n\u001b[1;32m      7\u001b[0m \u001b[39m# Set parameters using the setParam method\u001b[39;00m\n\u001b[0;32m----> 8\u001b[0m g\u001b[39m.\u001b[39;49mparams\u001b[39m.\u001b[39;49msetParam(\u001b[39m'\u001b[39m\u001b[39mscoring/ess\u001b[39m\u001b[39m'\u001b[39m, \u001b[39m1.0\u001b[39m)           \u001b[39m# Equivalent Sample Size for BDeu score\u001b[39;00m\n\u001b[1;32m      9\u001b[0m g\u001b[39m.\u001b[39mparams\u001b[39m.\u001b[39msetParam(\u001b[39m'\u001b[39m\u001b[39mscoring/family\u001b[39m\u001b[39m'\u001b[39m, \u001b[39m'\u001b[39m\u001b[39mbdeu\u001b[39m\u001b[39m'\u001b[39m)     \u001b[39m# Use the BDeu scoring function\u001b[39;00m\n\u001b[1;32m     10\u001b[0m g\u001b[39m.\u001b[39mparams\u001b[39m.\u001b[39msetParam(\u001b[39m'\u001b[39m\u001b[39mmaxparents\u001b[39m\u001b[39m'\u001b[39m, \u001b[39m4\u001b[39m)              \u001b[39m# Maximum number of parents per node\u001b[39;00m\n",
      "File \u001b[0;32msrc/gurobipy/param.pxi:257\u001b[0m, in \u001b[0;36mgurobipy.ParamClass.__getattr__\u001b[0;34m()\u001b[0m\n",
      "\u001b[0;31mAttributeError\u001b[0m: No parameter named 'setParam'"
     ]
    }
   ],
   "source": [
    "from pygobnilp.gobnilp import Gobnilp\n",
    "from pygobnilp.scoring import BDeu\n",
    "\n",
    "g = Gobnilp()\n",
    "\n",
    "g.params.setParam('scoring/ess', 1.0)           \n",
    "g.params.setParam('scoring/family', 'bdeu')   \n",
    "g.params.setParam('maxparents', 4)             \n",
    "\n",
    "number_of_variables = 25 \n",
    "\n",
    "arities = [2] * number_of_variables\n",
    "\n",
    "\n",
    "with open('/home/gulce/Downloads/thesis/data.data', 'r') as f:\n",
    "    first_line = f.readline()\n",
    "    num_variables_in_data = len(first_line.strip().split())\n",
    "print(\"Number of variables in data:\", num_variables_in_data)\n",
    "\n",
    "\n",
    "if num_variables_in_data != number_of_variables:\n",
    "    raise ValueError(\"Number of variables in data does not match number of arities.\")\n",
    "\n",
    "\n",
    "g.read_data('/home/gulce/Downloads/thesis/data.data', arities=arities)\n",
    "\n",
    "g.learn()\n",
    "\n",
    "learned_dag = g.learned_bn\n",
    "\n",
    "\n",
    "print(\"Learned edges:\", list(learned_dag.edges()))\n",
    "\n"
   ]
  },
  {
   "cell_type": "code",
   "execution_count": 49,
   "metadata": {},
   "outputs": [
    {
     "name": "stdout",
     "output_type": "stream",
     "text": [
      "Variable 1 unique values: [0 1]\n",
      "Variable 2 unique values: [0 1]\n",
      "Variable 3 unique values: [0 1]\n",
      "Variable 4 unique values: [0 1]\n",
      "Variable 5 unique values: [0 1]\n",
      "Variable 6 unique values: [0 1]\n",
      "Variable 7 unique values: [0 1]\n",
      "Variable 8 unique values: [0 1]\n",
      "Variable 9 unique values: [0 1]\n",
      "Variable 10 unique values: [0 1]\n",
      "Variable 11 unique values: [0 1]\n",
      "Variable 12 unique values: [0 1]\n",
      "Variable 13 unique values: [0 1]\n",
      "Variable 14 unique values: [0 1]\n",
      "Variable 15 unique values: [0 1]\n",
      "Variable 16 unique values: [0 1]\n",
      "Variable 17 unique values: [0 1]\n",
      "Variable 18 unique values: [0 1]\n",
      "Variable 19 unique values: [0 1]\n",
      "Variable 20 unique values: [0 1]\n",
      "Variable 21 unique values: [0 1]\n",
      "Variable 22 unique values: [0 1]\n",
      "Variable 23 unique values: [0 1]\n",
      "Variable 24 unique values: [0 1]\n",
      "Variable 25 unique values: [0 1]\n"
     ]
    }
   ],
   "source": [
    "\n"
   ]
  },
  {
   "cell_type": "code",
   "execution_count": null,
   "metadata": {},
   "outputs": [],
   "source": []
  },
  {
   "cell_type": "code",
   "execution_count": 6,
   "metadata": {},
   "outputs": [],
   "source": []
  }
 ],
 "metadata": {
  "kernelspec": {
   "display_name": "Python 3",
   "language": "python",
   "name": "python3"
  },
  "language_info": {
   "codemirror_mode": {
    "name": "ipython",
    "version": 3
   },
   "file_extension": ".py",
   "mimetype": "text/x-python",
   "name": "python",
   "nbconvert_exporter": "python",
   "pygments_lexer": "ipython3",
   "version": "3.11.7"
  },
  "orig_nbformat": 4
 },
 "nbformat": 4,
 "nbformat_minor": 2
}
