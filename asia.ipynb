version https://git-lfs.github.com/spec/v1
oid sha256:7a20b4e64067ee8a79ffbaed79e0004619ec9b0305e74190586b2a866e5b17c0
size 70160
